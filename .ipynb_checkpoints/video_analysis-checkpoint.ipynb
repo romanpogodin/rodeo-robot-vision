{
 "cells": [
  {
   "cell_type": "code",
   "execution_count": null,
   "metadata": {
    "collapsed": true
   },
   "outputs": [],
   "source": [
    "import numpy as np\n",
    "import matplotlib.pyplot as plt\n",
    "import cv2\n",
    "import math\n",
    "import time\n",
    "from time import sleep\n",
    "import imutils\n",
    "from IPython import display\n",
    "import serial\n",
    "from pynput import keyboard\n",
    "%matplotlib inline"
   ]
  },
  {
   "cell_type": "code",
   "execution_count": 2,
   "metadata": {
    "collapsed": true
   },
   "outputs": [],
   "source": [
    "greenLower = (29, 10, 10)\n",
    "greenUpper = (64, 255, 255)\n",
    "\n",
    "redLower = (36,63,0)\n",
    "redUpper = (88,169,255)\n",
    "\n",
    "blueLower = (91, 70, 79)\n",
    "blueUpper = (136, 255, 255)\n",
    "\n",
    "whiteLower = (0, 0, 250)\n",
    "whiteUpper = (360, 255, 255)\n",
    "\n",
    "red_thresh = [redLower, redUpper] # detects blue\n",
    "green_thresh = [greenLower, greenUpper]\n",
    "blue_thresh = [blueLower, blueUpper]\n",
    "white_thresh = [whiteLower, whiteUpper]\n",
    "\n",
    "rob_length = [0,100000]\n",
    "balloon_radius = [0,500]\n",
    "num_Bballoons = 10\n",
    "num_Wballoons = 10"
   ]
  },
  {
   "cell_type": "code",
   "execution_count": 3,
   "metadata": {
    "collapsed": true
   },
   "outputs": [],
   "source": [
    "def show_obj(cnts):\n",
    "    c_g = max(cnts, key=cv2.contourArea)\n",
    "#     c_g = max(cnts_g, key=cv2.mean)\n",
    "    ((x_g, y_g), radius_g) = cv2.minEnclosingCircle(c_g)\n",
    "    x_g = int(x_g)\n",
    "    y_g = int(y_g)\n",
    "    radius_g = int(radius_g)\n",
    "    return (x_g, y_g), radius_g\n",
    "\n",
    "\n",
    "def find_dist(coord1, coord2):\n",
    "    import numpy as np\n",
    "    dist = np.sqrt((coord2[0]-coord1[0])**2 + (coord2[1]-coord1[1])**2)\n",
    "    return dist\n",
    "\n",
    "def create_mask(hsv, colorLower, colorUpper):\n",
    "    import cv2\n",
    "    mask = cv2.inRange(hsv, colorLower, colorUpper)\n",
    "    mask = cv2.erode(mask, None, iterations=2)\n",
    "    mask = cv2.dilate(mask, None, iterations=2)\n",
    "    return mask"
   ]
  },
  {
   "cell_type": "code",
   "execution_count": 8,
   "metadata": {
    "collapsed": true
   },
   "outputs": [],
   "source": [
    "camera = 0\n",
    "cam = cv2.VideoCapture(camera)\n",
    "is_capturing, frame = cam.read()"
   ]
  },
  {
   "cell_type": "code",
   "execution_count": 9,
   "metadata": {},
   "outputs": [],
   "source": [
    "# cv2.imshow(frame)"
   ]
  },
  {
   "cell_type": "code",
   "execution_count": null,
   "metadata": {
    "collapsed": true
   },
   "outputs": [],
   "source": [
    "mask_b.shape"
   ]
  },
  {
   "cell_type": "code",
   "execution_count": 10,
   "metadata": {},
   "outputs": [],
   "source": [
    "comname = '/dev/cu.usbmodem14611'\n",
    "# ser = serial.Serial(comname, 9600)\n",
    "#adjust color detection\n",
    "# camera = 1\n",
    "# cam = cv2.VideoCapture(camera)\n",
    "is_capturing, frame = cam.read()\n",
    "comname = '/dev/cu.usbmodem14611'\n",
    "CoordG = (0,0)\n",
    "CoordR = (0,0)\n",
    "rob_detected = False\n",
    "x_r = 0\n",
    "y_r = 0\n",
    "x_b = 0\n",
    "y_b = 0\n",
    "x_w = 0\n",
    "y_w = 0\n",
    "S = False\n",
    "if S == True:\n",
    "    ser = serial.Serial(comname, 9600)\n",
    "\n",
    "offset = 93;\n",
    "    \n",
    "is_capturing, frame = cam.read()\n",
    "frame = imutils.resize(frame, width=600)\n",
    "h, w = frame.shape[:2]\n",
    "\n",
    "while is_capturing:\n",
    "    is_capturing, frame = cam.read()\n",
    "    frame = imutils.resize(frame, width=600)\n",
    "    hsv = cv2.cvtColor(frame, cv2.COLOR_BGR2HSV)\n",
    "#     mask_b = imutils.resize(mask_b, width=600)  \n",
    "    \n",
    "    cv2.putText(frame, str(h),(0, 10), cv2.FONT_HERSHEY_SIMPLEX, 0.5,(0,255,0),2) \n",
    "    cv2.putText(frame, str(w),(0, 90), cv2.FONT_HERSHEY_SIMPLEX, 0.5,(0,255,0),2) \n",
    " \n",
    "    mask_b = create_mask(hsv, blue_thresh[0], blue_thresh[1])\n",
    "    mask_g = create_mask(hsv, green_thresh[0], green_thresh[1])\n",
    "    mask_r = create_mask(hsv, red_thresh[0], red_thresh[1])\n",
    "    mask_w = create_mask(hsv, white_thresh[0], white_thresh[1])\n",
    "    cnts_b = cv2.findContours(mask_b.copy(), cv2.RETR_EXTERNAL, cv2.CHAIN_APPROX_SIMPLE)[-2]\n",
    "    cnts_g = cv2.findContours(mask_g.copy(), cv2.RETR_EXTERNAL, cv2.CHAIN_APPROX_SIMPLE)[-2]\n",
    "    cnts_r = cv2.findContours(mask_r.copy(), cv2.RETR_EXTERNAL, cv2.CHAIN_APPROX_SIMPLE)[-2]\n",
    "    cnts_w = cv2.findContours(mask_w.copy(), cv2.RETR_EXTERNAL, cv2.CHAIN_APPROX_SIMPLE)[-2]\n",
    "    \n",
    "    if len(cnts_b) > 0:\n",
    "        (x_b, y_b), radius_b = show_obj(cnts_b)\n",
    "        cv2.circle(frame, (x_b, y_b), int(radius_b), (255, 0, 0), 2)\n",
    "        cv2.circle(frame, (x_b, y_b), int(1), (255, 0, 0), 2)        \n",
    "#         cv2.putText(frame, str(radius_b),(x_b, y_b), cv2.FONT_HERSHEY_SIMPLEX, 1,(255,0,0),2)\n",
    "        \n",
    "#     if len(cnts_g) > 0:\n",
    "#         (x_g, y_g), radius_g = show_obj(cnts_g)\n",
    "#         cv2.circle(frame, (x_g, y_g), int(radius_g), (0, 255, 0), 2)\n",
    "#         cv2.circle(frame, (x_g, y_g), int(1), (0, 255, 0), 2)        \n",
    "#         cv2.putText(frame, str(radius_g),(x_g, y_g), cv2.FONT_HERSHEY_SIMPLEX, 1,(0,255,0),2) \n",
    "       \n",
    "    # this is green\n",
    "    if len(cnts_r) > 0:\n",
    "        (x_r, y_r), radius_r = show_obj(cnts_r)\n",
    "        cv2.circle(frame, (x_r, y_r), int(radius_r), (0, 0, 255), 2)\n",
    "        cv2.circle(frame, (x_r, y_r), int(1), (0, 0, 255), 2)        \n",
    "#         cv2.putText(frame, str(radius_r),(x_r, y_r), cv2.FONT_HERSHEY_SIMPLEX, 1,(0,0,0),2) \n",
    "        \n",
    "    if len(cnts_w) > 0:\n",
    "        (x_w, y_w), radius_w = show_obj(cnts_w)\n",
    "        cv2.circle(frame, (x_w, y_w), int(radius_w), (255, 255, 255), 2)\n",
    "        cv2.circle(frame, (x_w, y_w), int(1), (255, 255, 255), 2)        \n",
    "#         cv2.putText(frame, str(radius_w),(x_w, y_w), cv2.FONT_HERSHEY_SIMPLEX, 1,(255,255,255),2) \n",
    "    \n",
    "    \n",
    "    cv2.line(frame, (x_b,y_b), (x_r,y_r), (0,255,255),2)\n",
    "    r_center = (int((x_b + x_r)/2), int((y_b + y_r)/2))\n",
    "    cv2.circle(frame, (r_center[0], r_center[1]), int(5), (0, 0, 0), 2)\n",
    "    cv2.line(frame, (r_center[0], r_center[1]), (x_w, y_w), (0, 0, 0), 2) \n",
    "    \n",
    "    dx_R = x_r-x_b\n",
    "    dy_R = y_r-y_b  \n",
    "    \n",
    "    dx_mid = x_w- r_center[0]\n",
    "    dy_mid = y_w- r_center[1]\n",
    "    \n",
    "    large_ang = np.arctan2(dy_mid,dx_mid)*180/np.pi\n",
    "    small_ang = np.arctan2(dy_R,dx_R)*180/np.pi\n",
    "    ang = large_ang-small_ang\n",
    "    targ_dist = find_dist((x_w, y_w),r_center)\n",
    "    dx = targ_dist*np.cos(ang)/w*20\n",
    "    dy = targ_dist*np.sin(ang)/h*100\n",
    "    \n",
    "    \n",
    "#     FB = dx + offset\n",
    "\n",
    "    cv2.putText(frame, str(int(dx)),(30, 20), cv2.FONT_HERSHEY_SIMPLEX, 0.5,(0,0,0),2) \n",
    "    cv2.putText(frame, str(int(dy)),(100, 20), cv2.FONT_HERSHEY_SIMPLEX, 0.5,(0,0,0),2) \n",
    "#     cv2.putText(frame, str(targ_dist),(10, 200), cv2.FONT_HERSHEY_SIMPLEX, 0.5,(0,255,0),2) \n",
    "\n",
    "\n",
    "    \n",
    "    cv2.imshow(\"Frame\", frame) \n",
    "    key = cv2.waitKey(25) & 0xFF\n",
    "    if key  == ord('q'):\n",
    "        break\n",
    "\n",
    "cam.release()\n",
    "cv2.destroyAllWindows()"
   ]
  },
  {
   "cell_type": "code",
   "execution_count": 10,
   "metadata": {},
   "outputs": [
    {
     "data": {
      "text/plain": [
       "17"
      ]
     },
     "execution_count": 10,
     "metadata": {},
     "output_type": "execute_result"
    }
   ],
   "source": [
    "len(cnts_g[0])"
   ]
  },
  {
   "cell_type": "code",
   "execution_count": null,
   "metadata": {
    "collapsed": true
   },
   "outputs": [],
   "source": [
    "\n",
    "def update_locations(coord1, coord2, Coord1, Coord2):\n",
    "    Coord1 =  coord1\n",
    "    Coord2 =  coord2\n",
    "    return Coord1, Coord2\n",
    "\n",
    "def locate_robot(rob_length, green_thresh, red_thresh):\n",
    "    import cv2\n",
    "    import imutils\n",
    "    rob_detected = False\n",
    "    r_length = 90000\n",
    "    x_r = 0\n",
    "    y_r = 0\n",
    "    x_g = 9000\n",
    "    y_g = 9000\n",
    "    radius_g = 1\n",
    "    radius_r = 1\n",
    "    \n",
    "#     while r_length>500:\n",
    "    mask_g = create_mask(hsv, green_thresh[0], green_thresh[1])\n",
    "    mask_r = create_mask(hsv, red_thresh[0], red_thresh[1])\n",
    "    cnts_g = cv2.findContours(mask_g.copy(), cv2.RETR_EXTERNAL, cv2.CHAIN_APPROX_SIMPLE)[-2]\n",
    "    cnts_r = cv2.findContours(mask_r.copy(), cv2.RETR_EXTERNAL, cv2.CHAIN_APPROX_SIMPLE)[-2]\n",
    "\n",
    "    if len(cnts_g) > 0:\n",
    "        g_radius = [cv2.minEnclosingCircle(cnts_g[i])[1] for i in range(len(cnts_g))]\n",
    "        g_coord = [cv2.minEnclosingCircle(cnts_g[i])[0] for i in range(len(cnts_g))]\n",
    "#         c_g = max(cnts_g, key=cv2.mean)\n",
    "#         c_g = max(cnts_g, key=cv2.contourArea)\n",
    "#         ((x_g, y_g), radius_g) = cv2.minEnclosingCircle(c_g)\n",
    "    if len(cnts_r) > 0:\n",
    "#         c_r = max(cnts_r, key=cv2.mean)\n",
    "        c_r = max(cnts_r, key=cv2.contourArea)\n",
    "        ((x_r, y_r), radius_r) = cv2.minEnclosingCircle(c_r)\n",
    "    r_length = find_dist((x_g, y_g),(x_r, y_r))\n",
    "    if r_length>rob_length[0] and r_length<rob_length[1]:\n",
    "            rob_detected = True     \n",
    "    return((int(x_g), int(y_g)),(int(x_r), int(y_r))),radius_g,radius_r, rob_detected\n",
    "\n",
    "def locate_closest_target_balloon(cnts_b, num_Bballoons):\n",
    "    target_balloonCoord =  (0,0)\n",
    "    valid_Bcnts = []\n",
    "    valid_Bdist = [] \n",
    "    if len(cnts_b) > 0:\n",
    "#         c_g = max(cnts_g, key=cv2.mean)\n",
    "        c_b = max(cnts_b, key=cv2.contourArea)\n",
    "        ((x_b, y_b), radius_b) = cv2.minEnclosingCircle(c_b)\n",
    "        target_balloonCoord =  (int(x_b), int(y_b))\n",
    "#     target_balloonCoord = (-5,-5)\n",
    "#     for i in range(min(len(cnts_b), num_Bballoons)):\n",
    "#         ((x, y), radius) = cv2.minEnclosingCircle(cnts_b[i])\n",
    "#         if radius>balloon_radius[0] and radius<balloon_radius[1]:\n",
    "#             valid_Bcnts.append([cnts_b[i],(x, y)])\n",
    "#             valid_Bdist.append(find_dist(r_center,(x, y)))\n",
    "#     if len(valid_Bdist)>0:\n",
    "#         closest_balloon = np.argmin(valid_Bdist)\n",
    "#         target_balloonCoord =  valid_Bcnts[closest_balloon][1]\n",
    "    return target_balloonCoord"
   ]
  }
 ],
 "metadata": {
  "kernelspec": {
   "display_name": "Python 3",
   "language": "python",
   "name": "python3"
  },
  "language_info": {
   "codemirror_mode": {
    "name": "ipython",
    "version": 3
   },
   "file_extension": ".py",
   "mimetype": "text/x-python",
   "name": "python",
   "nbconvert_exporter": "python",
   "pygments_lexer": "ipython3",
   "version": "3.5.3"
  }
 },
 "nbformat": 4,
 "nbformat_minor": 2
}
