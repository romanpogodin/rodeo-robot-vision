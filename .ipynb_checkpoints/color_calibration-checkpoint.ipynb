{
 "cells": [
  {
   "cell_type": "code",
   "execution_count": 13,
   "metadata": {
    "collapsed": true
   },
   "outputs": [],
   "source": [
    "import cv2\n",
    "import numpy as np\n",
    "import imutils"
   ]
  },
  {
   "cell_type": "code",
   "execution_count": 14,
   "metadata": {
    "collapsed": true
   },
   "outputs": [],
   "source": [
    "L = (0, 30, 10)\n",
    "U = (40, 255, 255)\n",
    "    \n",
    "cL = list(L)\n",
    "cU = list(U)"
   ]
  },
  {
   "cell_type": "code",
   "execution_count": 15,
   "metadata": {
    "collapsed": true
   },
   "outputs": [],
   "source": [
    "colors = []\n",
    "def my_mouse_callback(event,x,y,flags,frame):\n",
    "    global evente,h,s,v,i,r,g,b,j\n",
    "    evente=event\n",
    "    if event==cv.CV_EVENT_LBUTTONDBLCLK:\t\t# Here event is left mouse button double-clicked\n",
    "        hsv=cv.CreateImage(cv.GetSize(frame),8,3)\n",
    "        cv.CvtColor(frame,hsv,cv.CV_BGR2HSV)\n",
    "        (h,s,v,i)=cv.Get2D(hsv,y,x)\n",
    "        (r,g,b,j)=cv.Get2D(frame,y,x)\n",
    "        print (\"x,y =\",x,y)\n",
    "        print (\"hsv= \",cv.Get2D(hsv,y,x))\t\t# Gives you HSV at clicked point\n",
    "        print (\"im= \",cv.Get2D(frame,y,x)) \t# Gives you RGB at clicked point\n",
    "\n",
    "def on_mouse_click (event, x, y, flags, hsv):\n",
    "    if event == cv2.EVENT_LBUTTONUP:\n",
    "        colors.append(hsv[y,x].tolist())\n"
   ]
  },
  {
   "cell_type": "code",
   "execution_count": 16,
   "metadata": {},
   "outputs": [
    {
     "name": "stdout",
     "output_type": "stream",
     "text": [
      "[0, 40, 10]\n",
      "[0, 40, 20]\n",
      "[0, 40, 30]\n",
      "[40, 265, 255]\n",
      "[40, 275, 255]\n",
      "[30, 275, 255]\n",
      "[10, 40, 30]\n",
      "[0, 40, 30]\n",
      "130 0 0 156 16 120\n",
      "[0, 0, 130] [120, 16, 156]\n"
     ]
    }
   ],
   "source": [
    "def main():\n",
    "    capture = cv2.VideoCapture(0)\n",
    "    while True:\n",
    "        _, frame = capture.read()\n",
    "        frame = imutils.resize(frame, width=600)\n",
    "        hsv = cv2.cvtColor(frame, cv2.COLOR_BGR2HSV)\n",
    "        \n",
    "        if colors:\n",
    "            cv2.putText(hsv, str(colors[-1]), (10, 50), cv2.FONT_HERSHEY_PLAIN, 2, (0, 0, 0), 2)\n",
    "\n",
    "\n",
    "#         cv2.SetMouseCallback(\"frame\",my_mouse_callback)\n",
    "        cL_ = tuple(cL)\n",
    "        cU_ = tuple(cU)\n",
    "        mask = cv2.inRange(hsv, cL_, cU_)\n",
    "        mask = cv2.erode(mask, None, iterations=2)\n",
    "        mask = cv2.dilate(mask, None, iterations=2)\n",
    "        mask = imutils.resize(mask, width=600)\n",
    "        \n",
    "        cv2.imshow('hsv', hsv)\n",
    "        cv2.imshow('frame', frame)\n",
    "        cv2.imshow('mask', mask)\n",
    "        cv2.setMouseCallback('frame', on_mouse_click, hsv)\n",
    "\n",
    "    \n",
    "        \n",
    "        if cv2.waitKey(1) & 0xFF == ord('q'):\n",
    "            break\n",
    "            \n",
    "        if cv2.waitKey(1) & 0xFF == ord('w'):\n",
    "            cL[0] = cL[0] + 10\n",
    "            print(cL)\n",
    "            \n",
    "        if cv2.waitKey(1) & 0xFF == ord('e'):\n",
    "            cL[1] = cL[1] + 10\n",
    "            print(cL)\n",
    "            \n",
    "        if cv2.waitKey(1) & 0xFF == ord('r'):\n",
    "            cL[2] = cL[2] + 10\n",
    "            print(cL)\n",
    "            \n",
    "        if cv2.waitKey(1) & 0xFF == ord('s'):\n",
    "            cL[0] = cL[0] - 10\n",
    "            print(cL)\n",
    "            \n",
    "        if cv2.waitKey(1) & 0xFF == ord('d'):\n",
    "            cL[1] = cL[1] - 10\n",
    "            print(cL)\n",
    "            \n",
    "        if cv2.waitKey(1) & 0xFF == ord('f'):\n",
    "            cL[2] = cL[2] - 10\n",
    "            print(cL)\n",
    "            \n",
    "        #################################################\n",
    "        if cv2.waitKey(1) & 0xFF == ord('t'):\n",
    "            cU[0] = cU[0] + 10\n",
    "            print(cU)\n",
    "            \n",
    "        if cv2.waitKey(1) & 0xFF == ord('y'):\n",
    "            cU[1] = cU[1] + 10\n",
    "            print(cU)\n",
    "            \n",
    "        if cv2.waitKey(1) & 0xFF == ord('u'):\n",
    "            cU[2] = cU[2] + 10\n",
    "            print(cU)\n",
    "            \n",
    "        if cv2.waitKey(1) & 0xFF == ord('g'):\n",
    "            cU[0] = cU[0] - 10\n",
    "            print(cU)\n",
    "            \n",
    "        if cv2.waitKey(1) & 0xFF == ord('h'):\n",
    "            cU[1] = cU[1] - 10\n",
    "            print(cU)\n",
    "            \n",
    "        if cv2.waitKey(1) & 0xFF == ord('j'):\n",
    "            cU[1] = cU[1] - 10\n",
    "            print(cU)\n",
    "            minb = min(c[0] for c in colors)\n",
    "\n",
    "\n",
    "    capture.release()\n",
    "    cv2.destroyAllWindows()\n",
    "                \n",
    "    minb = min(c[0] for c in colors)\n",
    "    ming = min(c[1] for c in colors)\n",
    "    minr = min(c[2] for c in colors)\n",
    "    maxb = max(c[0] for c in colors)\n",
    "    maxg = max(c[1] for c in colors)\n",
    "    maxr = max(c[2] for c in colors)\n",
    "    print (minr, ming, minb, maxr, maxg, maxb)\n",
    "\n",
    "    lb = [minb,ming,minr]\n",
    "    ub = [maxb,maxg,maxr]\n",
    "    print (lb, ub)\n",
    "\n",
    "\n",
    "if __name__ == \"__main__\":\n",
    "    main()"
   ]
  },
  {
   "cell_type": "code",
   "execution_count": null,
   "metadata": {
    "collapsed": true
   },
   "outputs": [],
   "source": [
    "[0, 40, 30]\n",
    "[30, 275, 255]"
   ]
  }
 ],
 "metadata": {
  "kernelspec": {
   "display_name": "Python 3",
   "language": "python",
   "name": "python3"
  },
  "language_info": {
   "codemirror_mode": {
    "name": "ipython",
    "version": 3
   },
   "file_extension": ".py",
   "mimetype": "text/x-python",
   "name": "python",
   "nbconvert_exporter": "python",
   "pygments_lexer": "ipython3",
   "version": "3.5.3"
  }
 },
 "nbformat": 4,
 "nbformat_minor": 2
}
