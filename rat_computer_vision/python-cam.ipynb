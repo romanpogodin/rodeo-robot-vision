{
 "cells": [
  {
   "cell_type": "markdown",
   "metadata": {
    "collapsed": true
   },
   "source": [
    "# Video processing with OpenCV"
   ]
  },
  {
   "cell_type": "code",
   "execution_count": null,
   "metadata": {
    "collapsed": false,
    "scrolled": true
   },
   "outputs": [],
   "source": [
    "import numpy as np\n",
    "import matplotlib.pyplot as plt\n",
    "import cv2\n",
    "import math\n",
    "import time\n",
    "import serial\n",
    "\n",
    "# %matplotlib inline"
   ]
  },
  {
   "cell_type": "code",
   "execution_count": null,
   "metadata": {
    "collapsed": true
   },
   "outputs": [],
   "source": [
    "# Specify camera/device number (usually 0)\n",
    "camera = 0\n",
    "\n",
    "# Specifiy number of frames to acquire\n",
    "num_frames = 1000\n",
    "\n",
    "# Open camera stream\n",
    "cam = cv2.VideoCapture(camera)"
   ]
  },
  {
   "cell_type": "code",
   "execution_count": null,
   "metadata": {
    "collapsed": false
   },
   "outputs": [],
   "source": [
    "cam.isOpened()"
   ]
  },
  {
   "cell_type": "code",
   "execution_count": null,
   "metadata": {
    "collapsed": true
   },
   "outputs": [],
   "source": [
    "kernel_open = cv2.getStructuringElement(cv2.MORPH_ELLIPSE, (5, 5))\n",
    "kernel_close = cv2.getStructuringElement(cv2.MORPH_ELLIPSE, (20, 20))\n",
    "\n",
    "min_perimeter = 50\n",
    "\n",
    "# Make space for intermediate images (of correct data type)\n",
    "# gray = np.zeros((height, width), dtype = np.uint8)\n",
    "# gray_float = np.zeros((height, width), dtype = np.float32)\n",
    "# previous = np.zeros((height, width), dtype = np.float32)\n",
    "# difference = np.zeros((height, width), dtype = np.float32)\n",
    "\n",
    "# cv2.namedWindow('image', cv2.WINDOW_NORMAL)\n",
    "# cv2.resizeWindow('image', 600, 600)"
   ]
  },
  {
   "cell_type": "code",
   "execution_count": null,
   "metadata": {
    "collapsed": true
   },
   "outputs": [],
   "source": [
    "# Setup SimpleBlobDetector parameters.\n",
    "params = cv2.SimpleBlobDetector_Params()\n",
    "\n",
    "# # Change thresholds\n",
    "# params.minThreshold = 10\n",
    "# params.maxThreshold = 200\n",
    " \n",
    "# Filter by Area.\n",
    "params.filterByArea = False # coulde be faster without it\n",
    "params.minArea = 1500\n",
    " \n",
    "# # Filter by Circularity\n",
    "params.filterByCircularity = False\n",
    "# params.minCircularity = 0.1\n",
    " \n",
    "# # Filter by Convexity\n",
    "params.filterByConvexity = False\n",
    "# params.minConvexity = 0.87\n",
    " \n",
    "# # Filter by Inertia\n",
    "params.filterByInertia = False\n",
    "# params.minInertiaRatio = 0.01\n",
    " \n",
    "# Create a detector with the parameters\n",
    "detector = cv2.SimpleBlobDetector_create(params)"
   ]
  },
  {
   "cell_type": "markdown",
   "metadata": {},
   "source": [
    "https://www.learnopencv.com/read-write-and-display-a-video-using-opencv-cpp-python/"
   ]
  },
  {
   "cell_type": "code",
   "execution_count": null,
   "metadata": {
    "collapsed": true
   },
   "outputs": [],
   "source": [
    "def filtrate_red(hsv_masks, clear_noise=True, show_filtered=False):\n",
    "    # Create a VideoCapture object and read from input file\n",
    "    # If the input is the camera, pass 0 instead of the video file name\n",
    "    cap = cv2.VideoCapture(0)\n",
    "\n",
    "    # Check if camera opened successfully\n",
    "    if (cap.isOpened()== False):\n",
    "        print(\"Error opening video stream or file\")\n",
    "\n",
    "    # Get image size\n",
    "    width = int(cam.get(cv2.CAP_PROP_FRAME_WIDTH))\n",
    "    height = int(cam.get(cv2.CAP_PROP_FRAME_HEIGHT))\n",
    "\n",
    "    # Read until video is completed\n",
    "    for i in range(0, num_frames):\n",
    "        if not cap.isOpened():\n",
    "            break\n",
    "\n",
    "        # Capture frame-by-frame\n",
    "        ret, frame = cap.read()    \n",
    "        if ret == True:\n",
    "            hsv_img = cv2.cvtColor(frame, cv2.COLOR_BGR2HSV)\n",
    "\n",
    "            frame_threshed = np.zeros((height, width), dtype=np.uint8)\n",
    "            for each_mask in hsv_masks:\n",
    "                frame_threshed += cv2.inRange(hsv_img, each_mask[0], each_mask[1])\n",
    "\n",
    "            if clear_noise:\n",
    "                frame_threshed = cv2.morphologyEx(frame_threshed, cv2.MORPH_OPEN, kernel_open)\n",
    "                frame_threshed = cv2.morphologyEx(frame_threshed, cv2.MORPH_CLOSE, kernel_close)\n",
    "                \n",
    "            _, contours, hierarchy = cv2.findContours(frame_threshed, cv2.RETR_TREE, cv2.CHAIN_APPROX_SIMPLE)\n",
    "            \n",
    "            backtorgb = cv2.cvtColor(frame_threshed, cv2.COLOR_GRAY2RGB)\n",
    "            \n",
    "            if show_filtered:\n",
    "                image_to_show = backtorgb\n",
    "            else:\n",
    "                image_to_show = frame\n",
    "            \n",
    "            for i in range(len(contours)):\n",
    "                if len(contours[i]) > min_perimeter:\n",
    "                    cv2.drawContours(image_to_show, contours, i, (0, 0, 255), 2)  \n",
    "            \n",
    "            #  cv2.drawContours(backtorgb, contours, -1, (0, 0, 255), 2)  \n",
    "\n",
    "            cv2.imshow('Frame', image_to_show)\n",
    "\n",
    "            #  plt.imshow(backtorgb)\n",
    "            \n",
    "            # Press Q on keyboard to  exit\n",
    "            if cv2.waitKey(25) & 0xFF == ord('q'):\n",
    "                break\n",
    "\n",
    "        # Break the loop\n",
    "        else: \n",
    "            break\n",
    "\n",
    "    # When everything done, release the video capture object\n",
    "    cap.release()\n",
    "\n",
    "    # Closes all the frames\n",
    "    cv2.destroyAllWindows()"
   ]
  },
  {
   "cell_type": "code",
   "execution_count": null,
   "metadata": {
    "collapsed": true
   },
   "outputs": [],
   "source": [
    "# lower red mask (0-10)\n",
    "# upper red mask (170-180)\n",
    "hsv_masks = [[np.array([0, 110, 0], np.uint8), \n",
    "              np.array([10, 255, 255], np.uint8)],\n",
    "             [np.array([160, 110, 0], np.uint8), \n",
    "              np.array([180, 255, 255], np.uint8)]]"
   ]
  },
  {
   "cell_type": "code",
   "execution_count": null,
   "metadata": {
    "collapsed": true
   },
   "outputs": [],
   "source": [
    "filtrate_red(hsv_masks, clear_noise=True, show_filtered=False)"
   ]
  },
  {
   "cell_type": "markdown",
   "metadata": {},
   "source": [
    "# Write data to Arduino"
   ]
  },
  {
   "cell_type": "code",
   "execution_count": null,
   "metadata": {
    "collapsed": true
   },
   "outputs": [],
   "source": [
    "from time import sleep\n",
    "import serial"
   ]
  },
  {
   "cell_type": "code",
   "execution_count": null,
   "metadata": {
    "collapsed": true
   },
   "outputs": [],
   "source": [
    "ser = serial.Serial('COM9', 9600) # Establish the connection on a specific port"
   ]
  },
  {
   "cell_type": "code",
   "execution_count": null,
   "metadata": {
    "collapsed": false
   },
   "outputs": [],
   "source": [
    "ser.write(b'B') # Convert the decimal number to ASCII then send it to the Arduino"
   ]
  },
  {
   "cell_type": "code",
   "execution_count": null,
   "metadata": {
    "collapsed": true
   },
   "outputs": [],
   "source": [
    "print(ser.readline()) # Read the newest output from the Arduino\n",
    "# sleep(0.1) # Delay for one tenth of a second"
   ]
  },
  {
   "cell_type": "markdown",
   "metadata": {
    "collapsed": true
   },
   "source": [
    "# Robot control"
   ]
  },
  {
   "cell_type": "code",
   "execution_count": null,
   "metadata": {
    "collapsed": true
   },
   "outputs": [],
   "source": [
    "import numpy as np\n",
    "import matplotlib.pyplot as plt\n",
    "import cv2\n",
    "import math\n",
    "import time\n",
    "import serial\n",
    "from time import sleep\n",
    "import serial\n",
    "from pynput import keyboard"
   ]
  },
  {
   "cell_type": "markdown",
   "metadata": {},
   "source": [
    "## Keyboard control with pynput"
   ]
  },
  {
   "cell_type": "code",
   "execution_count": null,
   "metadata": {
    "collapsed": true
   },
   "outputs": [],
   "source": [
    "ser = serial.Serial('COM9', 9600)\n",
    "\n",
    "def on_press(key):\n",
    "    try:\n",
    "        if 'w' == '{0}'.format(key)[1]:\n",
    "            ser.write(b'w')\n",
    "            sleep(0.0001)\n",
    "                    \n",
    "        if 'a' == '{0}'.format(key)[1]:\n",
    "            ser.write(b'a')\n",
    "            sleep(0.0001)\n",
    "\n",
    "        if 's' == '{0}'.format(key)[1]:\n",
    "            ser.write(b's')\n",
    "            sleep(0.0001)\n",
    "\n",
    "        if 'd' == '{0}'.format(key)[1]:\n",
    "            ser.write(b'd')\n",
    "            sleep(0.0001)\n",
    "            \n",
    "        if 'c' == '{0}'.format(key)[1]:\n",
    "            ser.write(b'c')\n",
    "            sleep(0.0001)\n",
    "    except AttributeError:\n",
    "        pwrint('special key {0} pressed'.format(key))\n",
    "\n",
    "def on_release(key):\n",
    "#     print('{0} released'.format(key))\n",
    "    if key == keyboard.Key.esc:\n",
    "        # Stop listener\n",
    "        return False\n",
    "\n",
    "# Collect events until released\n",
    "with keyboard.Listener(\n",
    "        on_press=on_press,\n",
    "        on_release=on_release) as listener:\n",
    "    listener.join()\n",
    "    \n",
    "ser.close()"
   ]
  },
  {
   "cell_type": "markdown",
   "metadata": {},
   "source": [
    "## Keyboard control with OpenCV"
   ]
  },
  {
   "cell_type": "code",
   "execution_count": null,
   "metadata": {
    "collapsed": true
   },
   "outputs": [],
   "source": [
    "cv2.imshow('Frame', np.zeros((200, 200)))\n",
    "while (True):\n",
    "    # Press Q on keyboard to  exit\n",
    "    if cv2.waitKey(25) & 0xFF == ord('q'):\n",
    "        break\n",
    "                    \n",
    "    if cv2.waitKey(25) & 0xFF == ord('w'):\n",
    "        ser.write(b'w')\n",
    "        sleep(0.001)\n",
    "                    \n",
    "    if cv2.waitKey(25) & 0xFF == ord('a'):\n",
    "        ser.write(b'a')\n",
    "        sleep(0.001)\n",
    "                    \n",
    "    if cv2.waitKey(25) & 0xFF == ord('s'):\n",
    "        ser.write(b's')\n",
    "        sleep(0.001)\n",
    "                    \n",
    "    if cv2.waitKey(25) & 0xFF == ord('d'):\n",
    "        ser.write(b'd')\n",
    "        sleep(0.001)\n",
    "\n",
    "ser.close()\n",
    "cv2.destroyAllWindows()"
   ]
  }
 ],
 "metadata": {
  "kernelspec": {
   "display_name": "Python 3",
   "language": "python",
   "name": "python3"
  },
  "language_info": {
   "codemirror_mode": {
    "name": "ipython",
    "version": 3
   },
   "file_extension": ".py",
   "mimetype": "text/x-python",
   "name": "python",
   "nbconvert_exporter": "python",
   "pygments_lexer": "ipython3",
   "version": "3.4.3"
  }
 },
 "nbformat": 4,
 "nbformat_minor": 2
}
