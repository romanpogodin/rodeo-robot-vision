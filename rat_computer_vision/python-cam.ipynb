{
 "cells": [
  {
   "cell_type": "markdown",
   "metadata": {},
   "source": [
    "# Main code"
   ]
  },
  {
   "cell_type": "code",
   "execution_count": 29,
   "metadata": {
    "collapsed": true
   },
   "outputs": [],
   "source": [
    "import numpy as np\n",
    "import matplotlib.pyplot as plt\n",
    "import cv2\n",
    "import math\n",
    "import time\n",
    "import serial\n",
    "from time import sleep\n",
    "from pynput import keyboard"
   ]
  },
  {
   "cell_type": "code",
   "execution_count": 127,
   "metadata": {
    "collapsed": true
   },
   "outputs": [],
   "source": [
    "def get_hsv_masks(color='red'):\n",
    "    if color == 'red':\n",
    "        return [[np.array([0, 80, 0], np.uint8),\n",
    "                 np.array([10, 255, 255], np.uint8)],\n",
    "                [np.array([160, 80, 0], np.uint8), \n",
    "                 np.array([180, 255, 255], np.uint8)]]\n",
    "\n",
    "    if color == 'orange':\n",
    "        return [[np.array([10, 150, 0], np.uint8), \n",
    "                 np.array([30, 235, 255], np.uint8)]]\n",
    "    \n",
    "    if color == 'green':\n",
    "        return [[np.array([40, 100, 0], np.uint8), \n",
    "                 np.array([80, 255, 255], np.uint8)]]\n",
    "        \n",
    "    print('Color must be green or red')\n",
    "    return None"
   ]
  },
  {
   "cell_type": "code",
   "execution_count": 40,
   "metadata": {
    "collapsed": true
   },
   "outputs": [],
   "source": [
    "def clear_binary_from_noise(image_threshed):\n",
    "    kernel_open = cv2.getStructuringElement(cv2.MORPH_ELLIPSE, (5, 5))\n",
    "    kernel_close = cv2.getStructuringElement(cv2.MORPH_ELLIPSE, (20, 20))\n",
    "\n",
    "    image_threshed = cv2.morphologyEx(image_threshed, cv2.MORPH_OPEN, kernel_open)\n",
    "    image_threshed = cv2.morphologyEx(image_threshed, cv2.MORPH_CLOSE, kernel_close)"
   ]
  },
  {
   "cell_type": "code",
   "execution_count": 41,
   "metadata": {
    "collapsed": true
   },
   "outputs": [],
   "source": [
    "def detect_colored_objects(hsv_img, min_perimeter, clear_noise=True, color='red'):\n",
    "    height, width = hsv_img.shape[0:2]\n",
    "    \n",
    "    image_threshed = np.zeros((height, width), dtype=np.uint8)\n",
    "    \n",
    "    hsv_masks = get_hsv_masks(color)\n",
    "    \n",
    "    for each_mask in hsv_masks:\n",
    "        image_threshed += cv2.inRange(hsv_img, each_mask[0], each_mask[1])\n",
    "\n",
    "    if clear_noise:\n",
    "        clear_binary_from_noise(image_threshed)\n",
    "\n",
    "    _, contours, hierarchy = cv2.findContours(image_threshed, cv2.RETR_TREE, cv2.CHAIN_APPROX_SIMPLE)\n",
    "\n",
    "    circles = []\n",
    "    for contour in contours:\n",
    "        if len(contour) > min_perimeter:\n",
    "            radius = np.sqrt(np.sum((contour[len(contour) // 2] - contour[0]) ** 2)) / 2\n",
    "            circles.append([0.5 * (contour[0] + contour[len(contour) // 2]).reshape(2), radius])\n",
    "\n",
    "    return circles"
   ]
  },
  {
   "cell_type": "code",
   "execution_count": 98,
   "metadata": {},
   "outputs": [],
   "source": [
    "def process_frame(cam, min_perimeter, show_picture=True, clear_noise=True):\n",
    "    # Initial processing\n",
    "\n",
    "    ret, image = cam.read()    \n",
    "    \n",
    "    if not ret:\n",
    "        print(\"Cannot read a frame\")\n",
    "        return 1, None, None\n",
    "    \n",
    "    hsv_img = cv2.cvtColor(image, cv2.COLOR_BGR2HSV)\n",
    "\n",
    "    rodeo_circles = detect_colored_objects(hsv_img, min_perimeter, \n",
    "                                           clear_noise, color='orange')\n",
    "    obstacle_circles = detect_colored_objects(hsv_img, min_perimeter, \n",
    "                                              clear_noise, color='green')\n",
    "\n",
    "    for circle in rodeo_circles:\n",
    "        cv2.circle(image, tuple(circle[0].astype('int')), \n",
    "                   circle[1].astype('int'), (0, 0, 255), 2)\n",
    "        \n",
    "    for circle in obstacle_circles:\n",
    "        cv2.circle(image, tuple(circle[0].astype('int')), \n",
    "                   circle[1].astype('int'), (0, 255, 0), 2)\n",
    "    \n",
    "    cv2.imshow('Frame', image)\n",
    "    \n",
    "    # Press Q on keyboard to  exit\n",
    "    if cv2.waitKey(25) & 0xFF == ord('q'):\n",
    "        return 1, None, None\n",
    "    \n",
    "    return 0, rodeo_circles, obstacle_circles"
   ]
  },
  {
   "cell_type": "code",
   "execution_count": 131,
   "metadata": {},
   "outputs": [],
   "source": [
    "def make_decision(rodeo_circles, obstacle_circles):\n",
    "    # Assume that we have two rodeo circles\n",
    "    \n",
    "    if len(rodeo_circles) < 3 or len(obstacle_circles) < 1:\n",
    "        return 'c'\n",
    "    \n",
    "    rodeo_center = (rodeo_circles[0][0] + rodeo_circles[1][0] + rodeo_circles[2][0]).reshape((2, 1)) / 3\n",
    "    \n",
    "    rodeo_distances = np.zeros(3)\n",
    "    \n",
    "    rodeo_distances[0] = np.sum(rodeo_circles[0][0] - rodeo_circles[1][0]) ** 2\n",
    "    rodeo_distances[1] = np.sum(rodeo_circles[1][0] - rodeo_circles[2][0]) ** 2\n",
    "    rodeo_distances[2] = np.sum(rodeo_circles[2][0] - rodeo_circles[0][0]) ** 2\n",
    "    \n",
    "    ind = np.argmin(rodeo_distances)\n",
    "    \n",
    "    if ind == 0:\n",
    "        rodeo_direction = rodeo_circles[2][0] - 0.5 * (rodeo_circles[0][0] + rodeo_circles[1][0])\n",
    "    elif ind == 1:\n",
    "        rodeo_direction = rodeo_circles[0][0] - 0.5 * (rodeo_circles[1][0] + rodeo_circles[2][0])\n",
    "    else:\n",
    "        rodeo_direction = rodeo_circles[1][0] - 0.5 * (rodeo_circles[0][0] + rodeo_circles[2][0])\n",
    "    \n",
    "    circle_centers = np.zeros((2, len(obstacle_circles)))\n",
    "    \n",
    "    for i in range(len(obstacle_circles)):\n",
    "        circle_centers[:, i] = obstacle_circles[i][0]\n",
    "    \n",
    "    circle_centers -= np.repeat(rodeo_center, len(obstacle_circles), axis=1)\n",
    "    \n",
    "    distances = np.sum(circle_centers ** 2, axis=0)\n",
    "    \n",
    "    closest_ind = np.argmin(distances)\n",
    "    \n",
    "    angle = np.arccos(rodeo_direction.dot(circle_centers[:, closest_ind]) / \n",
    "                      np.linalg.norm(rodeo_direction) / \n",
    "                      np.linalg.norm(circle_centers[:, closest_ind]))\n",
    "    \n",
    "    if np.abs(angle - np.pi) > 0.8 * np.pi:\n",
    "        return 'w'\n",
    "    else:\n",
    "        return 'a'"
   ]
  },
  {
   "cell_type": "code",
   "execution_count": 132,
   "metadata": {},
   "outputs": [],
   "source": [
    "from IPython.display import clear_output\n",
    "\n",
    "def send_decision(ser, command):\n",
    "    clear_output()\n",
    "    print(\"Sending %s\" % command)\n",
    "#     ser.write(bytes(command, 'utf-8'))"
   ]
  },
  {
   "cell_type": "code",
   "execution_count": 133,
   "metadata": {
    "collapsed": true
   },
   "outputs": [],
   "source": [
    "def run_rodeo(max_time=1000, min_perimeter=15):\n",
    "    # Connect to the transmitter\n",
    "    # ser = serial.Serial('COM9', 9600)\n",
    "    \n",
    "    # Connect to a webcam\n",
    "    cam = cv2.VideoCapture(0)\n",
    "    if (cam.isOpened() == False):\n",
    "        print(\"Error opening video stream or file\")\n",
    "    \n",
    "    # Process video\n",
    "    for curr_time in range(max_time):\n",
    "        if not cam.isOpened():\n",
    "            print(\"Camera is not opened\")\n",
    "            break\n",
    "            \n",
    "        ret, rodeo_circles, obstacle_circles = \\\n",
    "            process_frame(cam, min_perimeter=min_perimeter)\n",
    "        \n",
    "        if ret:\n",
    "            break\n",
    "        \n",
    "        command = make_decision(rodeo_circles, obstacle_circles)\n",
    "        \n",
    "        ser = None\n",
    "        send_decision(ser, command)\n",
    "        \n",
    "    cam.release()\n",
    "    cv2.destroyAllWindows()"
   ]
  },
  {
   "cell_type": "code",
   "execution_count": 134,
   "metadata": {},
   "outputs": [
    {
     "name": "stdout",
     "output_type": "stream",
     "text": [
      "Sending c\n"
     ]
    }
   ],
   "source": [
    "run_rodeo(max_time=500, min_perimeter=60)"
   ]
  },
  {
   "cell_type": "markdown",
   "metadata": {},
   "source": [
    "# Test part"
   ]
  },
  {
   "cell_type": "markdown",
   "metadata": {},
   "source": [
    "### Video processing with OpenCV"
   ]
  },
  {
   "cell_type": "code",
   "execution_count": null,
   "metadata": {
    "collapsed": true
   },
   "outputs": [],
   "source": [
    "num_frames = 1000\n",
    "\n",
    "kernel_open = cv2.getStructuringElement(cv2.MORPH_ELLIPSE, (5, 5))\n",
    "kernel_close = cv2.getStructuringElement(cv2.MORPH_ELLIPSE, (20, 20))\n",
    "\n",
    "def filtrate_red(hsv_masks, clear_noise=True, show_filtered=False, min_perimeter=15):\n",
    "    # Create a VideoCapture object and read from input file\n",
    "    # If the input is the camera, pass 0 instead of the video file name\n",
    "    \n",
    "    cam = cv2.VideoCapture(0)\n",
    "\n",
    "    # Check if camera opened successfully\n",
    "    if (cam.isOpened()== False):\n",
    "        print(\"Error opening video stream or file\")\n",
    "\n",
    "    # Get image size\n",
    "    width = int(cam.get(cv2.CAP_PROP_FRAME_WIDTH))\n",
    "    height = int(cam.get(cv2.CAP_PROP_FRAME_HEIGHT))\n",
    "    \n",
    "    # Read until video is completed\n",
    "    for i in range(0, num_frames):\n",
    "        if not cam.isOpened():\n",
    "            break\n",
    "\n",
    "        # Capture frame-by-frame\n",
    "        ret, frame = cam.read()    \n",
    "        if ret == True:\n",
    "            hsv_img = cv2.cvtColor(frame, cv2.COLOR_BGR2HSV)\n",
    "\n",
    "            frame_threshed = np.zeros((height, width), dtype=np.uint8)\n",
    "            for each_mask in hsv_masks:\n",
    "                frame_threshed += cv2.inRange(hsv_img, each_mask[0], each_mask[1])\n",
    "\n",
    "            if clear_noise:\n",
    "                frame_threshed = cv2.morphologyEx(frame_threshed, cv2.MORPH_OPEN, kernel_open)\n",
    "                frame_threshed = cv2.morphologyEx(frame_threshed, cv2.MORPH_CLOSE, kernel_close)\n",
    "                \n",
    "            _, contours, hierarchy = cv2.findContours(frame_threshed, cv2.RETR_TREE, cv2.CHAIN_APPROX_SIMPLE)\n",
    "            \n",
    "            backtorgb = cv2.cvtColor(frame_threshed, cv2.COLOR_GRAY2RGB)\n",
    "            \n",
    "            if show_filtered:\n",
    "                image_to_show = backtorgb\n",
    "            else:\n",
    "                image_to_show = frame\n",
    "            \n",
    "            for i in range(len(contours)):\n",
    "                if len(contours[i]) > min_perimeter:\n",
    "                    cv2.drawContours(image_to_show, contours, i, (0, 0, 255), 2)  \n",
    "                    \n",
    "                    ellipse = cv2.fitEllipse(contours[i])\n",
    "                    cv2.ellipse(image_to_show, ellipse, (0, 255, 0), 2)\n",
    "#                     print(ellipse)\n",
    "            \n",
    "#             if np.all(anchor_set):\n",
    "#                 return image_to_show, anchor_points, default_anchors\n",
    "#                 image_to_show = get_transformed_image(image_to_show, anchor_points, default_anchors)\n",
    "                \n",
    "            \n",
    "            #  cv2.drawContours(backtorgb, contours, -1, (0, 0, 255), 2)  \n",
    "\n",
    "            cv2.imshow('Frame', image_to_show)\n",
    "\n",
    "            #  plt.imshow(backtorgb)\n",
    "            \n",
    "            # Press Q on keyboard to  exit\n",
    "            if cv2.waitKey(25) & 0xFF == ord('q'):\n",
    "                break\n",
    "\n",
    "        # Break the loop\n",
    "        else: \n",
    "            break\n",
    "\n",
    "    # When everything done, release the video capture object\n",
    "    cam.release()\n",
    "\n",
    "    # Closes all the frames\n",
    "    cv2.destroyAllWindows()"
   ]
  },
  {
   "cell_type": "code",
   "execution_count": null,
   "metadata": {
    "collapsed": true
   },
   "outputs": [],
   "source": [
    "# lower red mask (0-10)\n",
    "# upper red mask (170-180)\n",
    "hsv_masks = [[np.array([0, 110, 0], np.uint8), \n",
    "              np.array([10, 255, 255], np.uint8)],\n",
    "             [np.array([160, 110, 0], np.uint8), \n",
    "              np.array([180, 255, 255], np.uint8)]]"
   ]
  },
  {
   "cell_type": "code",
   "execution_count": 120,
   "metadata": {},
   "outputs": [
    {
     "ename": "NameError",
     "evalue": "name 'filtrate_red' is not defined",
     "output_type": "error",
     "traceback": [
      "\u001b[1;31m---------------------------------------------------------------------------\u001b[0m",
      "\u001b[1;31mNameError\u001b[0m                                 Traceback (most recent call last)",
      "\u001b[1;32m<ipython-input-120-6a732427daa9>\u001b[0m in \u001b[0;36m<module>\u001b[1;34m()\u001b[0m\n\u001b[1;32m----> 1\u001b[1;33m \u001b[0mfiltrate_red\u001b[0m\u001b[1;33m(\u001b[0m\u001b[0mhsv_masks\u001b[0m\u001b[1;33m,\u001b[0m \u001b[0mclear_noise\u001b[0m\u001b[1;33m=\u001b[0m\u001b[1;32mTrue\u001b[0m\u001b[1;33m,\u001b[0m \u001b[0mshow_filtered\u001b[0m\u001b[1;33m=\u001b[0m\u001b[1;32mFalse\u001b[0m\u001b[1;33m,\u001b[0m \u001b[0mmin_perimeter\u001b[0m\u001b[1;33m=\u001b[0m\u001b[1;36m15\u001b[0m\u001b[1;33m)\u001b[0m\u001b[1;33m\u001b[0m\u001b[0m\n\u001b[0m",
      "\u001b[1;31mNameError\u001b[0m: name 'filtrate_red' is not defined"
     ]
    }
   ],
   "source": [
    "filtrate_red(hsv_masks, clear_noise=True, show_filtered=False, min_perimeter=15)"
   ]
  },
  {
   "cell_type": "markdown",
   "metadata": {},
   "source": [
    "### Write data to Arduino"
   ]
  },
  {
   "cell_type": "code",
   "execution_count": null,
   "metadata": {
    "collapsed": true
   },
   "outputs": [],
   "source": [
    "from time import sleep\n",
    "import serial"
   ]
  },
  {
   "cell_type": "code",
   "execution_count": null,
   "metadata": {
    "collapsed": true
   },
   "outputs": [],
   "source": [
    "ser = serial.Serial('COM9', 9600) # Establish the connection on a specific port"
   ]
  },
  {
   "cell_type": "code",
   "execution_count": null,
   "metadata": {
    "collapsed": true
   },
   "outputs": [],
   "source": [
    "ser.write(b'B') # Convert the decimal number to ASCII then send it to the Arduino"
   ]
  },
  {
   "cell_type": "code",
   "execution_count": null,
   "metadata": {
    "collapsed": true
   },
   "outputs": [],
   "source": [
    "print(ser.readline()) # Read the newest output from the Arduino\n",
    "# sleep(0.1) # Delay for one tenth of a second"
   ]
  },
  {
   "cell_type": "markdown",
   "metadata": {
    "collapsed": true
   },
   "source": [
    "### Robot control"
   ]
  },
  {
   "cell_type": "code",
   "execution_count": null,
   "metadata": {
    "collapsed": true
   },
   "outputs": [],
   "source": [
    "import numpy as np\n",
    "import matplotlib.pyplot as plt\n",
    "import cv2\n",
    "import math\n",
    "import time\n",
    "from time import sleep\n",
    "import serial\n",
    "from pynput import keyboard"
   ]
  },
  {
   "cell_type": "markdown",
   "metadata": {},
   "source": [
    "### Keyboard control with pynput"
   ]
  },
  {
   "cell_type": "code",
   "execution_count": null,
   "metadata": {
    "collapsed": true
   },
   "outputs": [],
   "source": [
    "ser = serial.Serial('COM9', 9600)\n",
    "\n",
    "def on_press(key):\n",
    "    try:\n",
    "        if 'w' == '{0}'.format(key)[1]:\n",
    "            ser.write(b'w')\n",
    "            sleep(0.0001)\n",
    "                    \n",
    "        if 'a' == '{0}'.format(key)[1]:\n",
    "            ser.write(b'a')\n",
    "            sleep(0.0001)\n",
    "\n",
    "        if 's' == '{0}'.format(key)[1]:\n",
    "            ser.write(b's')\n",
    "            sleep(0.0001)\n",
    "\n",
    "        if 'd' == '{0}'.format(key)[1]:\n",
    "            ser.write(b'd')\n",
    "            sleep(0.0001)\n",
    "            \n",
    "        if 'c' == '{0}'.format(key)[1]:\n",
    "            ser.write(b'c')\n",
    "            sleep(0.0001)\n",
    "    except AttributeError:\n",
    "        pwrint('special key {0} pressed'.format(key))\n",
    "\n",
    "def on_release(key):\n",
    "#     print('{0} released'.format(key))\n",
    "    if key == keyboard.Key.esc:\n",
    "        # Stop listener\n",
    "        return False\n",
    "\n",
    "# Collect events until released\n",
    "with keyboard.Listener(\n",
    "        on_press=on_press,\n",
    "        on_release=on_release) as listener:\n",
    "    listener.join()\n",
    "    \n",
    "ser.close()"
   ]
  },
  {
   "cell_type": "markdown",
   "metadata": {},
   "source": [
    "### Keyboard control with OpenCV"
   ]
  },
  {
   "cell_type": "code",
   "execution_count": null,
   "metadata": {
    "collapsed": true
   },
   "outputs": [],
   "source": [
    "cv2.imshow('Frame', np.zeros((200, 200)))\n",
    "while (True):\n",
    "    # Press Q on keyboard to  exit\n",
    "    if cv2.waitKey(25) & 0xFF == ord('q'):\n",
    "        break\n",
    "                    \n",
    "    if cv2.waitKey(25) & 0xFF == ord('w'):\n",
    "        ser.write(b'w')\n",
    "        sleep(0.001)\n",
    "                    \n",
    "    if cv2.waitKey(25) & 0xFF == ord('a'):\n",
    "        ser.write(b'a')\n",
    "        sleep(0.001)\n",
    "                    \n",
    "    if cv2.waitKey(25) & 0xFF == ord('s'):\n",
    "        ser.write(b's')\n",
    "        sleep(0.001)\n",
    "                    \n",
    "    if cv2.waitKey(25) & 0xFF == ord('d'):\n",
    "        ser.write(b'd')\n",
    "        sleep(0.001)\n",
    "\n",
    "ser.close()\n",
    "cv2.destroyAllWindows()"
   ]
  }
 ],
 "metadata": {
  "kernelspec": {
   "display_name": "Python 3",
   "language": "python",
   "name": "python3"
  },
  "language_info": {
   "codemirror_mode": {
    "name": "ipython",
    "version": 3
   },
   "file_extension": ".py",
   "mimetype": "text/x-python",
   "name": "python",
   "nbconvert_exporter": "python",
   "pygments_lexer": "ipython3",
   "version": "3.6.1"
  }
 },
 "nbformat": 4,
 "nbformat_minor": 2
}
